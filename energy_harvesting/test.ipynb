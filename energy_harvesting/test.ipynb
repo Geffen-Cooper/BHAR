{
 "cells": [
  {
   "cell_type": "code",
   "execution_count": 8,
   "metadata": {},
   "outputs": [],
   "source": [
    "import time"
   ]
  },
  {
   "cell_type": "code",
   "execution_count": 9,
   "metadata": {},
   "outputs": [],
   "source": [
    "def test(x,y):\n",
    "    return x < y"
   ]
  },
  {
   "cell_type": "code",
   "execution_count": 18,
   "metadata": {},
   "outputs": [
    {
     "name": "stdout",
     "output_type": "stream",
     "text": [
      "0.028089284896850586 5\n"
     ]
    }
   ],
   "source": [
    "st = time.time()\n",
    "x = 0\n",
    "for i in range(1000000):\n",
    "    if i < 5:\n",
    "        x += 1\n",
    "print(time.time() - st,x)"
   ]
  },
  {
   "cell_type": "code",
   "execution_count": 17,
   "metadata": {},
   "outputs": [
    {
     "name": "stdout",
     "output_type": "stream",
     "text": [
      "0.0589137077331543 5\n"
     ]
    }
   ],
   "source": [
    "st = time.time()\n",
    "x = 0\n",
    "for i in range(1000000):\n",
    "    if test(i,5):\n",
    "        x += 1\n",
    "print(time.time() - st,x)"
   ]
  }
 ],
 "metadata": {
  "kernelspec": {
   "display_name": "bhar",
   "language": "python",
   "name": "python3"
  },
  "language_info": {
   "codemirror_mode": {
    "name": "ipython",
    "version": 3
   },
   "file_extension": ".py",
   "mimetype": "text/x-python",
   "name": "python",
   "nbconvert_exporter": "python",
   "pygments_lexer": "ipython3",
   "version": "3.10.16"
  }
 },
 "nbformat": 4,
 "nbformat_minor": 2
}
